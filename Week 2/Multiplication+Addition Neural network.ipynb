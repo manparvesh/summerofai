{
 "cells": [
  {
   "cell_type": "code",
   "execution_count": 1,
   "metadata": {},
   "outputs": [],
   "source": [
    "import torch\n",
    "import torch.nn.functional as F"
   ]
  },
  {
   "cell_type": "markdown",
   "metadata": {},
   "source": [
    "### Step 1. Define data"
   ]
  },
  {
   "cell_type": "code",
   "execution_count": 3,
   "metadata": {},
   "outputs": [],
   "source": [
    "inputs = [\n",
    "    [2, 4, 2, 4],\n",
    "    [1, 3, 1, 3],\n",
    "    [-2, 2, -2, 2],\n",
    "    [1, 2, 1, 2],\n",
    "    [-1, 2, -1, 2],\n",
    "    [2, 5, 2, 5],\n",
    "    [2, 1, 2, 1]\n",
    "]\n",
    "# outputs would be the sum of first 2 elements and multiplication of later 2\n",
    "outputs = [\n",
    "    [6, 8],\n",
    "    [4, 3],\n",
    "    [0, -4],\n",
    "    [3, 2],\n",
    "    [1, -2],\n",
    "    [7, 10],\n",
    "    [3, 2]\n",
    "]"
   ]
  },
  {
   "cell_type": "markdown",
   "metadata": {},
   "source": [
    "### Step 2: Define Architecture"
   ]
  },
  {
   "cell_type": "code",
   "execution_count": 5,
   "metadata": {},
   "outputs": [],
   "source": [
    "class MultiplicationNeuralNetwork(torch.nn.Module):\n",
    "    \n",
    "    def __init__(self):\n",
    "        super(MultiplicationNeuralNetwork, self).__init__()\n",
    "        \n",
    "        # create layers\n",
    "        self.layer1 = torch.nn.Linear(4, 4)\n",
    "        self.layer2 = torch.nn.Linear(4, 8)\n",
    "        self.layer3 = torch.nn.Linear(8, 4)\n",
    "        self.layer4 = torch.nn.Linear(4, 2)\n",
    "        \n",
    "    def forward(self, x):\n",
    "        x = self.layer1(x)\n",
    "        # pass through activation function\n",
    "        x = F.relu(x)\n",
    "        \n",
    "        x = self.layer2(x)\n",
    "        x = F.relu(x)\n",
    "        \n",
    "        x = self.layer3(x)\n",
    "        x = F.relu(x)\n",
    "\n",
    "        # no need to pass the last one through an activation function\n",
    "        x = self.layer4(x)\n",
    "        \n",
    "        return x"
   ]
  },
  {
   "cell_type": "code",
   "execution_count": 6,
   "metadata": {},
   "outputs": [
    {
     "name": "stdout",
     "output_type": "stream",
     "text": [
      "MultiplicationNeuralNetwork(\n",
      "  (layer1): Linear(in_features=4, out_features=4, bias=True)\n",
      "  (layer2): Linear(in_features=4, out_features=8, bias=True)\n",
      "  (layer3): Linear(in_features=8, out_features=4, bias=True)\n",
      "  (layer4): Linear(in_features=4, out_features=2, bias=True)\n",
      ")\n"
     ]
    }
   ],
   "source": [
    "net = MultiplicationNeuralNetwork()\n",
    "print(net)"
   ]
  },
  {
   "cell_type": "markdown",
   "metadata": {},
   "source": [
    "### Step 3: Training the network"
   ]
  },
  {
   "cell_type": "code",
   "execution_count": 7,
   "metadata": {},
   "outputs": [],
   "source": [
    "# convert to tensors\n",
    "tensor_in = torch.tensor(inputs).float()\n",
    "expected = torch.tensor(outputs).float()\n",
    "\n",
    "# define loss function (using root mean square error)\n",
    "criterion = torch.nn.MSELoss()\n",
    "\n",
    "# define optimizer with learning rate\n",
    "optimizer = torch.optim.SGD(net.parameters(), lr=0.001)"
   ]
  },
  {
   "cell_type": "code",
   "execution_count": 8,
   "metadata": {},
   "outputs": [],
   "source": [
    "for i in range(10000):\n",
    "    # start each iteration with a clean network\n",
    "    net.zero_grad()\n",
    "    \n",
    "    output = net(tensor_in)\n",
    "    \n",
    "    loss = criterion(output, expected)\n",
    "    \n",
    "    loss.backward()\n",
    "    \n",
    "    optimizer.step()"
   ]
  },
  {
   "cell_type": "code",
   "execution_count": 9,
   "metadata": {},
   "outputs": [
    {
     "name": "stdout",
     "output_type": "stream",
     "text": [
      "tensor([[ 6.0145,  7.8278],\n",
      "        [ 3.9812,  3.8304],\n",
      "        [ 0.0926, -4.0298],\n",
      "        [ 2.9724,  1.8587],\n",
      "        [ 0.9232, -2.1926],\n",
      "        [ 7.0233,  9.7996],\n",
      "        [ 2.9882,  1.9127]], grad_fn=<AddmmBackward>)\n"
     ]
    }
   ],
   "source": [
    "print(net(tensor_in))"
   ]
  },
  {
   "cell_type": "code",
   "execution_count": 10,
   "metadata": {},
   "outputs": [],
   "source": [
    "test_value = torch.tensor([[1, 4, 1, 4], [2, 3, 2, 3]]).float()"
   ]
  },
  {
   "cell_type": "code",
   "execution_count": 11,
   "metadata": {},
   "outputs": [
    {
     "name": "stdout",
     "output_type": "stream",
     "text": [
      "tensor([[4.9899, 5.8022],\n",
      "        [5.0058, 5.8561]], grad_fn=<AddmmBackward>)\n"
     ]
    }
   ],
   "source": [
    "print(net(test_value))"
   ]
  }
 ],
 "metadata": {
  "kernelspec": {
   "display_name": "Python (Summer of AI)",
   "language": "python",
   "name": "summerofai"
  },
  "language_info": {
   "codemirror_mode": {
    "name": "ipython",
    "version": 3
   },
   "file_extension": ".py",
   "mimetype": "text/x-python",
   "name": "python",
   "nbconvert_exporter": "python",
   "pygments_lexer": "ipython3",
   "version": "3.6.8"
  },
  "toc": {
   "base_numbering": 1,
   "nav_menu": {},
   "number_sections": true,
   "sideBar": true,
   "skip_h1_title": false,
   "title_cell": "Table of Contents",
   "title_sidebar": "Contents",
   "toc_cell": false,
   "toc_position": {},
   "toc_section_display": true,
   "toc_window_display": false
  }
 },
 "nbformat": 4,
 "nbformat_minor": 2
}
