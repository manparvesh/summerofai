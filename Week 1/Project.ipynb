{
 "cells": [
  {
   "cell_type": "code",
   "execution_count": 1,
   "metadata": {},
   "outputs": [],
   "source": [
    "import torch"
   ]
  },
  {
   "cell_type": "code",
   "execution_count": 3,
   "metadata": {},
   "outputs": [
    {
     "data": {
      "text/plain": [
       "tensor([[0., 0., 0.],\n",
       "        [0., 0., 0.],\n",
       "        [0., 0., 0.]])"
      ]
     },
     "execution_count": 3,
     "metadata": {},
     "output_type": "execute_result"
    }
   ],
   "source": [
    "a = torch.zeros(3, 3)\n",
    "a"
   ]
  },
  {
   "cell_type": "code",
   "execution_count": 4,
   "metadata": {},
   "outputs": [
    {
     "data": {
      "text/plain": [
       "tensor([[1., 1., 1.],\n",
       "        [1., 1., 1.],\n",
       "        [1., 1., 1.]])"
      ]
     },
     "execution_count": 4,
     "metadata": {},
     "output_type": "execute_result"
    }
   ],
   "source": [
    "b = torch.ones(3, 3)\n",
    "b"
   ]
  },
  {
   "cell_type": "code",
   "execution_count": 7,
   "metadata": {},
   "outputs": [
    {
     "data": {
      "text/plain": [
       "tensor([[0., 0., 0., 1., 1., 1.],\n",
       "        [0., 0., 0., 1., 1., 1.],\n",
       "        [0., 0., 0., 1., 1., 1.]])"
      ]
     },
     "execution_count": 7,
     "metadata": {},
     "output_type": "execute_result"
    }
   ],
   "source": [
    "c = torch.cat((a, b), dim = 1)\n",
    "c"
   ]
  },
  {
   "cell_type": "code",
   "execution_count": 8,
   "metadata": {},
   "outputs": [
    {
     "data": {
      "text/plain": [
       "torch.Size([3, 6])"
      ]
     },
     "execution_count": 8,
     "metadata": {},
     "output_type": "execute_result"
    }
   ],
   "source": [
    "c.shape"
   ]
  },
  {
   "cell_type": "code",
   "execution_count": 9,
   "metadata": {},
   "outputs": [
    {
     "data": {
      "text/plain": [
       "'torch.FloatTensor'"
      ]
     },
     "execution_count": 9,
     "metadata": {},
     "output_type": "execute_result"
    }
   ],
   "source": [
    "c.type()"
   ]
  },
  {
   "cell_type": "code",
   "execution_count": 10,
   "metadata": {},
   "outputs": [
    {
     "data": {
      "text/plain": [
       "tensor([[0, 0, 0, 1, 1, 1],\n",
       "        [0, 0, 0, 1, 1, 1],\n",
       "        [0, 0, 0, 1, 1, 1]])"
      ]
     },
     "execution_count": 10,
     "metadata": {},
     "output_type": "execute_result"
    }
   ],
   "source": [
    "# changing the type of tensor from float to long\n",
    "c.type(torch.LongTensor)"
   ]
  },
  {
   "cell_type": "code",
   "execution_count": 12,
   "metadata": {},
   "outputs": [
    {
     "data": {
      "text/plain": [
       "tensor([[[0.8534, 0.2827, 0.1455,  ..., 0.7155, 0.3262, 0.2578],\n",
       "         [0.8304, 0.5645, 0.3075,  ..., 0.6169, 0.3781, 0.2910],\n",
       "         [0.7230, 0.3419, 0.1034,  ..., 0.4775, 0.8692, 0.9134],\n",
       "         ...,\n",
       "         [0.6476, 0.1874, 0.0536,  ..., 0.3043, 0.2825, 0.3217],\n",
       "         [0.0640, 0.9307, 0.3926,  ..., 0.2249, 0.7285, 0.1503],\n",
       "         [0.7534, 0.2053, 0.7048,  ..., 0.6685, 0.9207, 0.6015]],\n",
       "\n",
       "        [[0.8252, 0.8862, 0.1163,  ..., 0.6171, 0.4478, 0.7309],\n",
       "         [0.6459, 0.6679, 0.2590,  ..., 0.1403, 0.8739, 0.1399],\n",
       "         [0.3256, 0.7727, 0.8151,  ..., 0.9731, 0.7508, 0.8197],\n",
       "         ...,\n",
       "         [0.9360, 0.5423, 0.6826,  ..., 0.3288, 0.9179, 0.7844],\n",
       "         [0.4941, 0.2397, 0.9831,  ..., 0.2342, 0.4242, 0.3802],\n",
       "         [0.0973, 0.8064, 0.0305,  ..., 0.2988, 0.3032, 0.3412]],\n",
       "\n",
       "        [[0.3188, 0.8391, 0.3463,  ..., 0.0808, 0.2498, 0.5146],\n",
       "         [0.4657, 0.1667, 0.9211,  ..., 0.9359, 0.0293, 0.8625],\n",
       "         [0.8060, 0.2911, 0.9725,  ..., 0.2239, 0.1019, 0.2873],\n",
       "         ...,\n",
       "         [0.0051, 0.2405, 0.2682,  ..., 0.7115, 0.3534, 0.4244],\n",
       "         [0.4770, 0.3943, 0.8623,  ..., 0.8946, 0.3754, 0.3817],\n",
       "         [0.2891, 0.9340, 0.9656,  ..., 0.7947, 0.6037, 0.7932]]])"
      ]
     },
     "execution_count": 12,
     "metadata": {},
     "output_type": "execute_result"
    }
   ],
   "source": [
    "d = torch.rand(3, 100, 100)\n",
    "d"
   ]
  },
  {
   "cell_type": "code",
   "execution_count": 13,
   "metadata": {},
   "outputs": [
    {
     "data": {
      "text/plain": [
       "tensor(0.4994)"
      ]
     },
     "execution_count": 13,
     "metadata": {},
     "output_type": "execute_result"
    }
   ],
   "source": [
    "# mean of d\n",
    "torch.mean(d)"
   ]
  },
  {
   "cell_type": "code",
   "execution_count": 14,
   "metadata": {},
   "outputs": [
    {
     "data": {
      "text/plain": [
       "tensor(0.2895)"
      ]
     },
     "execution_count": 14,
     "metadata": {},
     "output_type": "execute_result"
    }
   ],
   "source": [
    "# standard deviation of d\n",
    "torch.std(d)"
   ]
  }
 ],
 "metadata": {
  "kernelspec": {
   "display_name": "Python (Summer of AI)",
   "language": "python",
   "name": "summerofai"
  },
  "language_info": {
   "codemirror_mode": {
    "name": "ipython",
    "version": 3
   },
   "file_extension": ".py",
   "mimetype": "text/x-python",
   "name": "python",
   "nbconvert_exporter": "python",
   "pygments_lexer": "ipython3",
   "version": "3.6.8"
  },
  "toc": {
   "base_numbering": 1,
   "nav_menu": {},
   "number_sections": true,
   "sideBar": true,
   "skip_h1_title": false,
   "title_cell": "Table of Contents",
   "title_sidebar": "Contents",
   "toc_cell": false,
   "toc_position": {},
   "toc_section_display": true,
   "toc_window_display": false
  }
 },
 "nbformat": 4,
 "nbformat_minor": 2
}
